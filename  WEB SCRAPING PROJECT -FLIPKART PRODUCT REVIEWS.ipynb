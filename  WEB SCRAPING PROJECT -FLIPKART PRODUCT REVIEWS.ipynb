{
 "cells": [
  {
   "cell_type": "code",
   "execution_count": 20,
   "metadata": {},
   "outputs": [],
   "source": [
    "#import libraries \n",
    "from bs4 import BeautifulSoup\n",
    "import datetime\n",
    "import requests\n",
    "import pandas as pd"
   ]
  },
  {
   "cell_type": "code",
   "execution_count": 34,
   "metadata": {},
   "outputs": [
    {
     "name": "stdout",
     "output_type": "stream",
     "text": [
      "['The brand is very trustworthy and i got genuine pice at a very low cost.I ordered the green one and trust me the colour was amazing.All the colours but specifically green and purple are nice for look.Thanks to flipkart❤️READ MORE', 'Awesome phone … value for money.. Happy with battery life.. Awesome camera features… look at the images snapped using the phone… easy to use.. Just feared about getting scratch at back glass… but using cover helped it…READ MORE', 'My 1st iPhone ever and I’m loving it. Great performance, awesome display, camera is outstanding which comes with heavily priced. But worth it. White color looks super cool. 🎉😊😍READ MORE', \"Thanks flipkart i trust you got my device perfectly loved it best phone in it's segmentREAD MORE\", 'Excellent product worth for every penny, writing this review after using 7 days, earlier was using iPhone 6Plus now on iPhone 12 😍, faster then anything this else.Excellent Picture quality.Just loved it.!!READ MORE', 'Delightful phone, the phone is just a peice of art, sleek, eye catchy, super fast and got everything u need...best one availableREAD MORE', 'It’s my first iPhone ever and I bought it with my earned money through part time jobs in college✌️I am a tech freak so you can trust my views -- A14 Bionic is the fastest, most efficient and reliable processor till date- The camera focuses so quickly that you can take DSLR quality photos.- The screen size 6.1 inches is the most comfortable screen size out there and the OLED retina XDR display is so crisp and everything feels real.- The stereo speakers are so clear even on high volume an...READ MORE', 'iPhone 6S Plus 64GB -> iPhone 12 128GBMy 2nd iPhone, upgraded after 5 years.Gorgeous display, stunning new blue colour, excellent camera, best hardware-software combination, that’s how I would describe iPhone 12 as a package. 😊Even though my previous iPhone had a 5.5” display and this one has 6.1” display, its overall body size is much smaller. Had to get used to it initially 🙂Opening/closing/loading of apps is fast. No issues there. Video playback on this screen looks gorgeous. Took...READ MORE', 'The best is yet to come, I am really happy with the product was delivered on time by Flipkart, over all liked the colours it’s a dream come to true to finally have an iPhone. Thank you FlipkartREAD MORE', 'Night mode is simply amazing and give you a clear and crisp image even when you are in dark.READ MORE']\n"
     ]
    }
   ],
   "source": [
    "url=\"https://www.flipkart.com/apple-iphone-12-black-64-gb/p/itma2559422bf7c7?pid=MOBFWBYZU5FWK2VP&lid=LSTMOBFWBYZU5FWK2VPUYA8BN&marketplace=FLIPKART&q=iphone+12&store=tyy%2F4io&srno=s_1_1&otracker=AS_QueryStore_OrganicAutoSuggest_1_6_na_na_na&otracker1=AS_QueryStore_OrganicAutoSuggest_1_6_na_na_na&fm=SEARCH&iid=76d2c16f-7845-4717-b502-c26e491c736d.MOBFWBYZU5FWK2VP.SEARCH&ppt=hp&ppn=homepage&ssid=y96cn5wt680000001639683764104&qH=7b7504afcaf2e1ea\"\n",
    "data=requests.get(url)\n",
    "soup=BeautifulSoup(data.content,\"html.parser\")\n",
    "# print(soup)\n",
    "# To prettify the html content\n",
    "\n",
    "soup2=soup.prettify()\n",
    "# print(soup2)\n",
    "\n",
    "#print the name of customer in html\n",
    "\n",
    "names=soup.findAll('p',class_=\"_2sc7ZR _2V5EHH\")\n",
    "# print(names)\n",
    "\n",
    "# to create  list of customers \n",
    "cust_review_name=[]\n",
    "for i in range(0,len(names)):\n",
    "    cust_review_name.append(names[i].get_text())\n",
    "\n",
    "# print(cust_review_name)\n",
    "\n",
    "# print title review\n",
    "review_title=soup.findAll('p',class_=\"_2-N8zT\")\n",
    "# print(review_title)\n",
    "\n",
    "title=[]\n",
    "for i in range(0,len(review_title)):\n",
    "    title.append(review_title[i].get_text())\n",
    "    \n",
    "    \n",
    "# print(title)\n",
    "\n",
    "# finding how many stars customer give to the product\n",
    "rate=soup.findAll('div',class_=\"_3LWZlK _1BLPMq\")\n",
    "# print(rate)\n",
    "\n",
    "rating=[]\n",
    "for i in range(0,len(rate)):\n",
    "    rating.append(rate[i].get_text())\n",
    "\n",
    "    \n",
    "# print(rating)\n",
    "\n",
    "\n",
    "review=soup.findAll('div',{\"class\":\"t-ZTKy\"})\n",
    "# print(review)\n",
    "\n",
    "reviews=[]\n",
    "for i in range(0,len(review)):\n",
    "    reviews.append(review[i].get_text())\n",
    "    \n",
    "# print(reviews)\n",
    "\n"
   ]
  },
  {
   "cell_type": "code",
   "execution_count": 39,
   "metadata": {},
   "outputs": [],
   "source": [
    "# import pandas\n",
    "\n",
    "# import pandas as pd\n",
    "df=pd.DataFrame()\n",
    "df['customer_name']=cust_review_name\n",
    "df['customer_title']=title\n",
    "df['customer_rating']=rating\n",
    "df['customer_review']=reviews\n",
    "\n",
    "\n",
    "# print(df)\n",
    "# dump this data into excel file\n",
    "df.to_excel(r\"E:\\reviews.xlsx\",index=True)\n",
    "\n"
   ]
  },
  {
   "cell_type": "code",
   "execution_count": null,
   "metadata": {},
   "outputs": [],
   "source": []
  }
 ],
 "metadata": {
  "kernelspec": {
   "display_name": "Python 3",
   "language": "python",
   "name": "python3"
  },
  "language_info": {
   "codemirror_mode": {
    "name": "ipython",
    "version": 3
   },
   "file_extension": ".py",
   "mimetype": "text/x-python",
   "name": "python",
   "nbconvert_exporter": "python",
   "pygments_lexer": "ipython3",
   "version": "3.7.6"
  }
 },
 "nbformat": 4,
 "nbformat_minor": 4
}
